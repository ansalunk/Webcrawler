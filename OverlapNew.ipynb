{
 "cells": [
  {
   "cell_type": "code",
   "execution_count": 9,
   "metadata": {
    "collapsed": true
   },
   "outputs": [],
   "source": [
    "import json\n",
    "import os\n",
    "import csv\n",
    "import collections\n",
    "import pandas as pd\n",
    "from pandas.io.json import json_normalize"
   ]
  },
  {
   "cell_type": "code",
   "execution_count": 2,
   "metadata": {
    "scrolled": true
   },
   "outputs": [],
   "source": [
    "df1 = pd.read_json('datasample1.json', orient='records', lines=True)\n",
    "#df1\n",
    "\n",
    "df2 = pd.read_json('datasample7-14.json', orient='records', lines=True)\n",
    "#df2['dst_msisdn']\n",
    "\n"
   ]
  },
  {
   "cell_type": "code",
   "execution_count": 3,
   "metadata": {
    "collapsed": true
   },
   "outputs": [],
   "source": [
    "frames = [df1,df2]\n",
    "result = pd.concat(frames, ignore_index=True)\n",
    "dest_file_name = 'datasample1-14.json'\n",
    "with open(dest_file_name, 'w') as outfile:  \n",
    "    outfile.write(result.to_json(orient='records', lines=True))"
   ]
  },
  {
   "cell_type": "code",
   "execution_count": 8,
   "metadata": {},
   "outputs": [
    {
     "name": "stdout",
     "output_type": "stream",
     "text": [
      "['15225993534', '15141304591', '15141302959', '15225974085', '15252791435', '15225978414', '491771789238', '15225978976', '15735998791', '15238516030', '15258121663', '15258120709', '15255934476', '15227184047', '15735988237', '15735995685', '491771789238', '15258120733', '15735990689', '15238516030', '15225978414', '15735998791', '15225978976', '15735988237', '15258121663', '15258120709', '491771789238', '15735988237', '15258120733', '15227184047', '15735990689', '15735995477', '15129493824', '15735995685', '15143546722', '15143546701', '15129475492', '15143546693', '15129493604', '15735996005', '15143546719', '15735997179', '15129493611', '491771789238', '15129493611', '15735996005', '15129493604', '15129475492', '15735997179', '15735986214', '15143546722', '15129493621', '15129493619', '15735986487', '15143546693', '15129493836', '491771789238', '15143546701', '15143546719', '15129493836', '491771789238', '15735986487', '15143546722', '15129493619', '15129475141', '15129493828', '15735984623', '15143546693', '15143546701', '15143546719', '15129493614', '15129493833', '15143546722', '15129493833', '15143546693', '15129493829', '15129493614', '15129493828', '15735984623', '15143546719', '15143546701', '15735985315', '15735987497', '15735985531', '15735987173', '491771783189', '15143370931', '15143371010', '15129475987', '15129493821', '15129493821', '15129475987', '17665715009', '15735985432', '15735987591', '15735985059', '15168761232', '15163154661', '15163154708', '15163154788', '15168761239', '15735986380', '15735988377', '15735984135', '15735984623', '15143546693', '15129493833', '15143546719', '15143546701', '15129493828', '15735987497', '15129493614', '15735985531', '15129493829', '15129493821', '15129475987', '17665715009', '15735985059', '15163154661', '15735985432', '15163154708', '15168761232', '15735987591', '15163154788', '15735986380', '15735985432', '15735987591', '15735985059', '15168761232', '15163154661', '15163154788', '15163154708', '15168761239', '15735986380', '15735983415', '15735984135', '15735982982', '15735988377', '15735988377', '15129493833', '15143546693', '15143546719', '15129493614', '15143546701', '15129493828', '15129493829', '15216112149', '15214529129', '15735984135', '15735983415', '15735982982', '1771789261', '17636489712', '15735986134', '17668110702', '15215029670', '15735983415', '15735986134', '15735984135', '17668110702', '1771789261', '15215029670', '17636489712', '15735982982', '1771789268', '1771789235', '15735985782', '1771789264', '15236920833', '15735981430', '15735982924', '15735982738', '15735983172', '15735983172', '15735981430', '15735982738', '15735982924', '15735983315', '15735981150', '15175162159', '15175162147', '15735982502', '15175162149', '15735981514', '15171960497', '15735981442', '15735981272', '15735981371', '15175162155', '15171960489', '15226558074', '15735981272', '15226558074', '15171960489', '15735981371', '15175162155', '15735984135', '15735982685', '15735983415', '15735983270', '15735982615', '15735982620', '15735982845', '15735982397', '15735981771', '15735981402', '15735981201', '15735981253', '15236920833', '1771789268', '1771789235', '1771789264', '15735981610', '15735983026', '15735981084']\n"
     ]
    }
   ],
   "source": [
    "data_json = pd.read_json('datasample1-14.json', orient='records', lines=True)\n",
    "data_json['dst_msisdn']\n",
    "\n",
    "\n",
    "data_json = data_json[pd.notnull(data_json['dst_msisdn'])]\n",
    "data_json = data_json[data_json['dst_msdn_info.twilio.country_code'].astype(str) == 'DE']\n",
    "\n",
    "#data_json[['dst_msisdn','dst_msdn_info.twilio.country_code']]\n",
    "\n",
    "#data_json\n",
    "\n",
    "number = []\n",
    "\n",
    "import phonenumbers\n",
    "for index, row in data_json.iterrows():\n",
    "    x = phonenumbers.parse(str(data_json['dst_msisdn'][index]),\n",
    "                           'DE')\n",
    "    number.insert(0,str(x.national_number))\n",
    "\n",
    "print number"
   ]
  },
  {
   "cell_type": "code",
   "execution_count": 11,
   "metadata": {},
   "outputs": [
    {
     "name": "stdout",
     "output_type": "stream",
     "text": [
      "C:\\Users\\Anuja Salunkhe\\Priya\\chunks\\mergefile.json\n"
     ]
    },
    {
     "ename": "ValueError",
     "evalue": "Expecting object: line 1138538 column 2 (char 67382138)",
     "output_type": "error",
     "traceback": [
      "\u001b[1;31m---------------------------------------------------------------------------\u001b[0m",
      "\u001b[1;31mValueError\u001b[0m                                Traceback (most recent call last)",
      "\u001b[1;32m<ipython-input-11-4b0997af8ac6>\u001b[0m in \u001b[0;36m<module>\u001b[1;34m()\u001b[0m\n\u001b[0;32m      2\u001b[0m \u001b[1;32mprint\u001b[0m \u001b[0mfilePath1\u001b[0m\u001b[1;33m\u001b[0m\u001b[0m\n\u001b[0;32m      3\u001b[0m \u001b[0mjson_file_object1\u001b[0m \u001b[1;33m=\u001b[0m \u001b[0mopen\u001b[0m\u001b[1;33m(\u001b[0m\u001b[0mfilePath1\u001b[0m\u001b[1;33m)\u001b[0m\u001b[1;33m\u001b[0m\u001b[0m\n\u001b[1;32m----> 4\u001b[1;33m \u001b[0mdata1\u001b[0m \u001b[1;33m=\u001b[0m \u001b[0mjson\u001b[0m\u001b[1;33m.\u001b[0m\u001b[0mload\u001b[0m\u001b[1;33m(\u001b[0m\u001b[0mjson_file_object1\u001b[0m\u001b[1;33m)\u001b[0m\u001b[1;33m\u001b[0m\u001b[0m\n\u001b[0m\u001b[0;32m      5\u001b[0m \u001b[1;31m#data1 = json.loads(data1)\u001b[0m\u001b[1;33m\u001b[0m\u001b[1;33m\u001b[0m\u001b[0m\n\u001b[0;32m      6\u001b[0m \u001b[0mdata_json1\u001b[0m \u001b[1;33m=\u001b[0m \u001b[0mjson_normalize\u001b[0m\u001b[1;33m(\u001b[0m\u001b[0mdata1\u001b[0m\u001b[1;33m)\u001b[0m\u001b[1;33m\u001b[0m\u001b[0m\n",
      "\u001b[1;32mC:\\Anaconda2\\lib\\json\\__init__.pyc\u001b[0m in \u001b[0;36mload\u001b[1;34m(fp, encoding, cls, object_hook, parse_float, parse_int, parse_constant, object_pairs_hook, **kw)\u001b[0m\n\u001b[0;32m    289\u001b[0m         \u001b[0mparse_float\u001b[0m\u001b[1;33m=\u001b[0m\u001b[0mparse_float\u001b[0m\u001b[1;33m,\u001b[0m \u001b[0mparse_int\u001b[0m\u001b[1;33m=\u001b[0m\u001b[0mparse_int\u001b[0m\u001b[1;33m,\u001b[0m\u001b[1;33m\u001b[0m\u001b[0m\n\u001b[0;32m    290\u001b[0m         \u001b[0mparse_constant\u001b[0m\u001b[1;33m=\u001b[0m\u001b[0mparse_constant\u001b[0m\u001b[1;33m,\u001b[0m \u001b[0mobject_pairs_hook\u001b[0m\u001b[1;33m=\u001b[0m\u001b[0mobject_pairs_hook\u001b[0m\u001b[1;33m,\u001b[0m\u001b[1;33m\u001b[0m\u001b[0m\n\u001b[1;32m--> 291\u001b[1;33m         **kw)\n\u001b[0m\u001b[0;32m    292\u001b[0m \u001b[1;33m\u001b[0m\u001b[0m\n\u001b[0;32m    293\u001b[0m \u001b[1;33m\u001b[0m\u001b[0m\n",
      "\u001b[1;32mC:\\Anaconda2\\lib\\json\\__init__.pyc\u001b[0m in \u001b[0;36mloads\u001b[1;34m(s, encoding, cls, object_hook, parse_float, parse_int, parse_constant, object_pairs_hook, **kw)\u001b[0m\n\u001b[0;32m    337\u001b[0m             \u001b[0mparse_int\u001b[0m \u001b[1;32mis\u001b[0m \u001b[0mNone\u001b[0m \u001b[1;32mand\u001b[0m \u001b[0mparse_float\u001b[0m \u001b[1;32mis\u001b[0m \u001b[0mNone\u001b[0m \u001b[1;32mand\u001b[0m\u001b[1;33m\u001b[0m\u001b[0m\n\u001b[0;32m    338\u001b[0m             parse_constant is None and object_pairs_hook is None and not kw):\n\u001b[1;32m--> 339\u001b[1;33m         \u001b[1;32mreturn\u001b[0m \u001b[0m_default_decoder\u001b[0m\u001b[1;33m.\u001b[0m\u001b[0mdecode\u001b[0m\u001b[1;33m(\u001b[0m\u001b[0ms\u001b[0m\u001b[1;33m)\u001b[0m\u001b[1;33m\u001b[0m\u001b[0m\n\u001b[0m\u001b[0;32m    340\u001b[0m     \u001b[1;32mif\u001b[0m \u001b[0mcls\u001b[0m \u001b[1;32mis\u001b[0m \u001b[0mNone\u001b[0m\u001b[1;33m:\u001b[0m\u001b[1;33m\u001b[0m\u001b[0m\n\u001b[0;32m    341\u001b[0m         \u001b[0mcls\u001b[0m \u001b[1;33m=\u001b[0m \u001b[0mJSONDecoder\u001b[0m\u001b[1;33m\u001b[0m\u001b[0m\n",
      "\u001b[1;32mC:\\Anaconda2\\lib\\json\\decoder.pyc\u001b[0m in \u001b[0;36mdecode\u001b[1;34m(self, s, _w)\u001b[0m\n\u001b[0;32m    362\u001b[0m \u001b[1;33m\u001b[0m\u001b[0m\n\u001b[0;32m    363\u001b[0m         \"\"\"\n\u001b[1;32m--> 364\u001b[1;33m         \u001b[0mobj\u001b[0m\u001b[1;33m,\u001b[0m \u001b[0mend\u001b[0m \u001b[1;33m=\u001b[0m \u001b[0mself\u001b[0m\u001b[1;33m.\u001b[0m\u001b[0mraw_decode\u001b[0m\u001b[1;33m(\u001b[0m\u001b[0ms\u001b[0m\u001b[1;33m,\u001b[0m \u001b[0midx\u001b[0m\u001b[1;33m=\u001b[0m\u001b[0m_w\u001b[0m\u001b[1;33m(\u001b[0m\u001b[0ms\u001b[0m\u001b[1;33m,\u001b[0m \u001b[1;36m0\u001b[0m\u001b[1;33m)\u001b[0m\u001b[1;33m.\u001b[0m\u001b[0mend\u001b[0m\u001b[1;33m(\u001b[0m\u001b[1;33m)\u001b[0m\u001b[1;33m)\u001b[0m\u001b[1;33m\u001b[0m\u001b[0m\n\u001b[0m\u001b[0;32m    365\u001b[0m         \u001b[0mend\u001b[0m \u001b[1;33m=\u001b[0m \u001b[0m_w\u001b[0m\u001b[1;33m(\u001b[0m\u001b[0ms\u001b[0m\u001b[1;33m,\u001b[0m \u001b[0mend\u001b[0m\u001b[1;33m)\u001b[0m\u001b[1;33m.\u001b[0m\u001b[0mend\u001b[0m\u001b[1;33m(\u001b[0m\u001b[1;33m)\u001b[0m\u001b[1;33m\u001b[0m\u001b[0m\n\u001b[0;32m    366\u001b[0m         \u001b[1;32mif\u001b[0m \u001b[0mend\u001b[0m \u001b[1;33m!=\u001b[0m \u001b[0mlen\u001b[0m\u001b[1;33m(\u001b[0m\u001b[0ms\u001b[0m\u001b[1;33m)\u001b[0m\u001b[1;33m:\u001b[0m\u001b[1;33m\u001b[0m\u001b[0m\n",
      "\u001b[1;32mC:\\Anaconda2\\lib\\json\\decoder.pyc\u001b[0m in \u001b[0;36mraw_decode\u001b[1;34m(self, s, idx)\u001b[0m\n\u001b[0;32m    378\u001b[0m         \"\"\"\n\u001b[0;32m    379\u001b[0m         \u001b[1;32mtry\u001b[0m\u001b[1;33m:\u001b[0m\u001b[1;33m\u001b[0m\u001b[0m\n\u001b[1;32m--> 380\u001b[1;33m             \u001b[0mobj\u001b[0m\u001b[1;33m,\u001b[0m \u001b[0mend\u001b[0m \u001b[1;33m=\u001b[0m \u001b[0mself\u001b[0m\u001b[1;33m.\u001b[0m\u001b[0mscan_once\u001b[0m\u001b[1;33m(\u001b[0m\u001b[0ms\u001b[0m\u001b[1;33m,\u001b[0m \u001b[0midx\u001b[0m\u001b[1;33m)\u001b[0m\u001b[1;33m\u001b[0m\u001b[0m\n\u001b[0m\u001b[0;32m    381\u001b[0m         \u001b[1;32mexcept\u001b[0m \u001b[0mStopIteration\u001b[0m\u001b[1;33m:\u001b[0m\u001b[1;33m\u001b[0m\u001b[0m\n\u001b[0;32m    382\u001b[0m             \u001b[1;32mraise\u001b[0m \u001b[0mValueError\u001b[0m\u001b[1;33m(\u001b[0m\u001b[1;34m\"No JSON object could be decoded\"\u001b[0m\u001b[1;33m)\u001b[0m\u001b[1;33m\u001b[0m\u001b[0m\n",
      "\u001b[1;31mValueError\u001b[0m: Expecting object: line 1138538 column 2 (char 67382138)"
     ]
    }
   ],
   "source": [
    "filePath1 = os.path.abspath(\"mergefile.json\")\n",
    "print filePath1\n",
    "json_file_object1 = open(filePath1)\n",
    "data1 = json.load(json_file_object1)\n",
    "#data1 = json.loads(data1)\n",
    "data_json1 = json_normalize(data1)"
   ]
  },
  {
   "cell_type": "code",
   "execution_count": 195,
   "metadata": {},
   "outputs": [
    {
     "name": "stdout",
     "output_type": "stream",
     "text": [
      "[]\n"
     ]
    }
   ],
   "source": [
    "data_json1 = data_json1.drop_duplicates('Phone Number')\n",
    "#print data_json[['dst_msdn_info.twilio.phone_number', 'dst_msdn_info.twilio.country_code']]\n",
    "data_json1 = data_json1[pd.notnull(data_json1['Phone Number'])]\n",
    "data_json1 = data_json1[data_json1['Country Code:'].astype(str) == ' 49']\n",
    "#print data_json1\n",
    "\n",
    "snumber = []\n",
    "\n",
    "import phonenumbers\n",
    "for index, row in data_json1.iterrows():\n",
    "    x = phonenumbers.parse(data_json1['Phone Number'][index],\n",
    "                           'DE')\n",
    "    snumber.insert(0,str(x.national_number))\n",
    "\n",
    "print snumber"
   ]
  },
  {
   "cell_type": "code",
   "execution_count": 159,
   "metadata": {},
   "outputs": [
    {
     "data": {
      "text/html": [
       "<div>\n",
       "<style>\n",
       "    .dataframe thead tr:only-child th {\n",
       "        text-align: right;\n",
       "    }\n",
       "\n",
       "    .dataframe thead th {\n",
       "        text-align: left;\n",
       "    }\n",
       "\n",
       "    .dataframe tbody tr th {\n",
       "        vertical-align: top;\n",
       "    }\n",
       "</style>\n",
       "<table border=\"1\" class=\"dataframe\">\n",
       "  <thead>\n",
       "    <tr style=\"text-align: right;\">\n",
       "      <th></th>\n",
       "      <th>Number</th>\n",
       "    </tr>\n",
       "  </thead>\n",
       "  <tbody>\n",
       "  </tbody>\n",
       "</table>\n",
       "</div>"
      ],
      "text/plain": [
       "Empty DataFrame\n",
       "Columns: [Number]\n",
       "Index: []"
      ]
     },
     "execution_count": 159,
     "metadata": {},
     "output_type": "execute_result"
    }
   ],
   "source": [
    "import pandas as pd\n",
    "df = pd.DataFrame(number, columns=['Number'])\n",
    "#print df\n",
    "\n",
    "\n",
    "df1 = pd.DataFrame(snumber, columns=['Number'])\n",
    "#print df1\n",
    "\n",
    "df.merge(df1)\n"
   ]
  },
  {
   "cell_type": "code",
   "execution_count": null,
   "metadata": {
    "collapsed": true
   },
   "outputs": [],
   "source": []
  },
  {
   "cell_type": "code",
   "execution_count": null,
   "metadata": {
    "collapsed": true
   },
   "outputs": [],
   "source": []
  }
 ],
 "metadata": {
  "kernelspec": {
   "display_name": "Python 2",
   "language": "python",
   "name": "python2"
  },
  "language_info": {
   "codemirror_mode": {
    "name": "ipython",
    "version": 2
   },
   "file_extension": ".py",
   "mimetype": "text/x-python",
   "name": "python",
   "nbconvert_exporter": "python",
   "pygments_lexer": "ipython2",
   "version": "2.7.14"
  }
 },
 "nbformat": 4,
 "nbformat_minor": 2
}
